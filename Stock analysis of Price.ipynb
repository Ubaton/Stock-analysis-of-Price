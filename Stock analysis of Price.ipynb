{
 "cells": [
  {
   "cell_type": "code",
   "execution_count": null,
   "id": "ca71d050",
   "metadata": {},
   "outputs": [],
   "source": [
    "import pandas as pd\n",
    "import yfinance as yf\n",
    "import matplotlib.pyplot as plt"
   ]
  },
  {
   "cell_type": "code",
   "execution_count": null,
   "id": "2e315113",
   "metadata": {},
   "outputs": [],
   "source": [
    "yf.Ticker('NDAQ').info"
   ]
  },
  {
   "cell_type": "code",
   "execution_count": null,
   "id": "086a9357",
   "metadata": {},
   "outputs": [],
   "source": [
    "tickers = ['AAPL','NDAQ','IBM','AAT','ADBE','NVDA']\n"
   ]
  },
  {
   "cell_type": "code",
   "execution_count": null,
   "id": "0ce18995",
   "metadata": {},
   "outputs": [],
   "source": [
    "infos = []\n",
    "\n",
    "for i in tickers:\n",
    "    infos.append(yf.Ticker(i).info)"
   ]
  },
  {
   "cell_type": "code",
   "execution_count": null,
   "id": "246b2ba9",
   "metadata": {},
   "outputs": [],
   "source": [
    "fundamentals = ['currentPrice','averageVolume','shortRatio','beta']"
   ]
  },
  {
   "cell_type": "code",
   "execution_count": null,
   "id": "b1e8c0c7",
   "metadata": {},
   "outputs": [],
   "source": [
    "df = pd.DataFrame(infos)"
   ]
  },
  {
   "cell_type": "code",
   "execution_count": null,
   "id": "95f6d41e",
   "metadata": {},
   "outputs": [],
   "source": [
    "df = df.set_index('symbol')"
   ]
  },
  {
   "cell_type": "code",
   "execution_count": null,
   "id": "f4997fc7",
   "metadata": {},
   "outputs": [],
   "source": [
    "df"
   ]
  },
  {
   "cell_type": "code",
   "execution_count": null,
   "id": "9bde206f",
   "metadata": {},
   "outputs": [],
   "source": [
    "df[df.columns[df.columns.isin(fundamentals)]]"
   ]
  },
  {
   "cell_type": "code",
   "execution_count": null,
   "id": "26d080ac",
   "metadata": {},
   "outputs": [],
   "source": [
    "plt.bar(df.index,df.currentPrice, color = ('red','blue','yellow','orange','k','cyan'))\n",
    "plt.show"
   ]
  }
 ],
 "metadata": {
  "kernelspec": {
   "display_name": "Python 3",
   "language": "python",
   "name": "python3"
  },
  "language_info": {
   "codemirror_mode": {
    "name": "ipython",
    "version": 3
   },
   "file_extension": ".py",
   "mimetype": "text/x-python",
   "name": "python",
   "nbconvert_exporter": "python",
   "pygments_lexer": "ipython3",
   "version": "3.10.5 (tags/v3.10.5:f377153, Jun  6 2022, 16:14:13) [MSC v.1929 64 bit (AMD64)]"
  },
  "vscode": {
   "interpreter": {
    "hash": "369f2c481f4da34e4445cda3fffd2e751bd1c4d706f27375911949ba6bb62e1c"
   }
  }
 },
 "nbformat": 4,
 "nbformat_minor": 5
}
